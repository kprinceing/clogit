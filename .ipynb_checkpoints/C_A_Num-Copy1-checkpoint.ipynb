{
 "cells": [
  {
   "cell_type": "code",
   "execution_count": 42,
   "metadata": {
    "collapsed": true
   },
   "outputs": [],
   "source": [
    "import pandas as pd\n",
    "import numpy as np\n",
    "import matplotlib.pyplot as plt\n",
    "import statsmodels.formula.api as sm\n",
    "import time\n",
    "%matplotlib inline"
   ]
  },
  {
   "cell_type": "code",
   "execution_count": 43,
   "metadata": {
    "collapsed": true
   },
   "outputs": [],
   "source": [
    "pd.options.display.max_columns = 100"
   ]
  },
  {
   "cell_type": "markdown",
   "metadata": {},
   "source": [
    "### Read in the gaokao data"
   ]
  },
  {
   "cell_type": "code",
   "execution_count": 44,
   "metadata": {
    "collapsed": false
   },
   "outputs": [
    {
     "data": {
      "text/html": [
       "<div>\n",
       "<table border=\"1\" class=\"dataframe\">\n",
       "  <thead>\n",
       "    <tr style=\"text-align: right;\">\n",
       "      <th></th>\n",
       "      <th>provid</th>\n",
       "      <th>wave</th>\n",
       "      <th>clg_num</th>\n",
       "      <th>sch_rank</th>\n",
       "      <th>score</th>\n",
       "      <th>score_rank</th>\n",
       "    </tr>\n",
       "  </thead>\n",
       "  <tbody>\n",
       "    <tr>\n",
       "      <th>983825</th>\n",
       "      <td>11</td>\n",
       "      <td>2005</td>\n",
       "      <td>北京大学</td>\n",
       "      <td>2</td>\n",
       "      <td>687.0</td>\n",
       "      <td>1</td>\n",
       "    </tr>\n",
       "    <tr>\n",
       "      <th>4532530</th>\n",
       "      <td>11</td>\n",
       "      <td>2005</td>\n",
       "      <td>清华大学</td>\n",
       "      <td>1</td>\n",
       "      <td>673.0</td>\n",
       "      <td>2</td>\n",
       "    </tr>\n",
       "    <tr>\n",
       "      <th>4535276</th>\n",
       "      <td>11</td>\n",
       "      <td>2005</td>\n",
       "      <td>清华大学</td>\n",
       "      <td>1</td>\n",
       "      <td>671.0</td>\n",
       "      <td>3</td>\n",
       "    </tr>\n",
       "    <tr>\n",
       "      <th>4527864</th>\n",
       "      <td>11</td>\n",
       "      <td>2005</td>\n",
       "      <td>清华大学</td>\n",
       "      <td>1</td>\n",
       "      <td>670.0</td>\n",
       "      <td>4</td>\n",
       "    </tr>\n",
       "    <tr>\n",
       "      <th>984320</th>\n",
       "      <td>11</td>\n",
       "      <td>2005</td>\n",
       "      <td>北京大学</td>\n",
       "      <td>2</td>\n",
       "      <td>663.0</td>\n",
       "      <td>5</td>\n",
       "    </tr>\n",
       "  </tbody>\n",
       "</table>\n",
       "</div>"
      ],
      "text/plain": [
       "         provid  wave clg_num  sch_rank  score  score_rank\n",
       "983825       11  2005    北京大学         2  687.0           1\n",
       "4532530      11  2005    清华大学         1  673.0           2\n",
       "4535276      11  2005    清华大学         1  671.0           3\n",
       "4527864      11  2005    清华大学         1  670.0           4\n",
       "984320       11  2005    北京大学         2  663.0           5"
      ]
     },
     "execution_count": 44,
     "metadata": {},
     "output_type": "execute_result"
    }
   ],
   "source": [
    "gaokao_df = pd.read_stata('C:/Users/yan/Dropbox/college_entrance_exam/data/ncee_rank.dta')\n",
    "gaokao_df = gaokao_df[['provid', 'wave','clg_num','sch_rank', 'score']]\n",
    "gaokao_df['score_rank'] = gaokao_df.groupby(['provid','wave'])['score'].rank(ascending=False).astype(int)\n",
    "gaokao_df.sort_values(by=['provid','wave','score_rank'],inplace=True)\n",
    "gaokao_df.head(5)"
   ]
  },
  {
   "cell_type": "markdown",
   "metadata": {},
   "source": [
    "### Generate a dataframe with cutoff score for each college in each province year \n",
    "    + Group the gaokao_df by clg prov and wave\n",
    "    + Generate a new df by calculating the min value for the score\n",
    "    + Reset index\n",
    "    + Drop Nan values"
   ]
  },
  {
   "cell_type": "code",
   "execution_count": 45,
   "metadata": {
    "collapsed": false
   },
   "outputs": [
    {
     "data": {
      "text/html": [
       "<div>\n",
       "<table border=\"1\" class=\"dataframe\">\n",
       "  <thead>\n",
       "    <tr style=\"text-align: right;\">\n",
       "      <th></th>\n",
       "      <th>clg_num</th>\n",
       "      <th>provid</th>\n",
       "      <th>wave</th>\n",
       "      <th>bar</th>\n",
       "    </tr>\n",
       "  </thead>\n",
       "  <tbody>\n",
       "    <tr>\n",
       "      <th>62726</th>\n",
       "      <td>清华大学</td>\n",
       "      <td>65</td>\n",
       "      <td>2011</td>\n",
       "      <td>643.0</td>\n",
       "    </tr>\n",
       "    <tr>\n",
       "      <th>8322</th>\n",
       "      <td>中国科学技术大学</td>\n",
       "      <td>65</td>\n",
       "      <td>2011</td>\n",
       "      <td>629.0</td>\n",
       "    </tr>\n",
       "    <tr>\n",
       "      <th>608</th>\n",
       "      <td>上海交通大学</td>\n",
       "      <td>65</td>\n",
       "      <td>2011</td>\n",
       "      <td>624.0</td>\n",
       "    </tr>\n",
       "    <tr>\n",
       "      <th>3044</th>\n",
       "      <td>上海财经大学</td>\n",
       "      <td>65</td>\n",
       "      <td>2011</td>\n",
       "      <td>623.0</td>\n",
       "    </tr>\n",
       "    <tr>\n",
       "      <th>22938</th>\n",
       "      <td>南开大学</td>\n",
       "      <td>65</td>\n",
       "      <td>2011</td>\n",
       "      <td>623.0</td>\n",
       "    </tr>\n",
       "    <tr>\n",
       "      <th>14615</th>\n",
       "      <td>北京大学</td>\n",
       "      <td>65</td>\n",
       "      <td>2011</td>\n",
       "      <td>620.0</td>\n",
       "    </tr>\n",
       "    <tr>\n",
       "      <th>59884</th>\n",
       "      <td>浙江大学</td>\n",
       "      <td>65</td>\n",
       "      <td>2011</td>\n",
       "      <td>620.0</td>\n",
       "    </tr>\n",
       "    <tr>\n",
       "      <th>30449</th>\n",
       "      <td>复旦大学</td>\n",
       "      <td>65</td>\n",
       "      <td>2011</td>\n",
       "      <td>608.0</td>\n",
       "    </tr>\n",
       "    <tr>\n",
       "      <th>811</th>\n",
       "      <td>上海外国语大学</td>\n",
       "      <td>65</td>\n",
       "      <td>2011</td>\n",
       "      <td>598.0</td>\n",
       "    </tr>\n",
       "    <tr>\n",
       "      <th>76124</th>\n",
       "      <td>西南财经大学</td>\n",
       "      <td>65</td>\n",
       "      <td>2011</td>\n",
       "      <td>590.0</td>\n",
       "    </tr>\n",
       "  </tbody>\n",
       "</table>\n",
       "</div>"
      ],
      "text/plain": [
       "        clg_num  provid  wave    bar\n",
       "62726      清华大学      65  2011  643.0\n",
       "8322   中国科学技术大学      65  2011  629.0\n",
       "608      上海交通大学      65  2011  624.0\n",
       "3044     上海财经大学      65  2011  623.0\n",
       "22938      南开大学      65  2011  623.0\n",
       "14615      北京大学      65  2011  620.0\n",
       "59884      浙江大学      65  2011  620.0\n",
       "30449      复旦大学      65  2011  608.0\n",
       "811     上海外国语大学      65  2011  598.0\n",
       "76124    西南财经大学      65  2011  590.0"
      ]
     },
     "execution_count": 45,
     "metadata": {},
     "output_type": "execute_result"
    }
   ],
   "source": [
    "# generate the clg bar dataframe.\n",
    "clg_df_grouped = gaokao_df[['score','clg_num','provid','wave']].groupby(['clg_num','provid','wave'])\n",
    "clg_bar_df = clg_df_grouped.agg(np.min)\n",
    "clg_bar_df.rename(columns={'score':'bar'},inplace=True)\n",
    "clg_bar_df.reset_index(inplace=True)\n",
    "clg_bar_df.dropna(inplace=True)\n",
    "clg = clg_bar_df[['clg_num','provid', 'wave', 'bar']]\n",
    "clg.sort_values(by=['provid','wave','bar'],ascending=False, inplace=True)\n",
    "clg.head(10)"
   ]
  },
  {
   "cell_type": "code",
   "execution_count": 46,
   "metadata": {
    "collapsed": false
   },
   "outputs": [
    {
     "data": {
      "text/html": [
       "<div>\n",
       "<table border=\"1\" class=\"dataframe\">\n",
       "  <thead>\n",
       "    <tr style=\"text-align: right;\">\n",
       "      <th></th>\n",
       "      <th>provid</th>\n",
       "      <th>wave</th>\n",
       "      <th>clg_num</th>\n",
       "      <th>sch_rank</th>\n",
       "      <th>quota</th>\n",
       "      <th>cum_quota</th>\n",
       "    </tr>\n",
       "  </thead>\n",
       "  <tbody>\n",
       "    <tr>\n",
       "      <th>0</th>\n",
       "      <td>11</td>\n",
       "      <td>2005</td>\n",
       "      <td>清华大学</td>\n",
       "      <td>1</td>\n",
       "      <td>291</td>\n",
       "      <td>291</td>\n",
       "    </tr>\n",
       "    <tr>\n",
       "      <th>1</th>\n",
       "      <td>11</td>\n",
       "      <td>2005</td>\n",
       "      <td>北京大学</td>\n",
       "      <td>2</td>\n",
       "      <td>377</td>\n",
       "      <td>668</td>\n",
       "    </tr>\n",
       "    <tr>\n",
       "      <th>2</th>\n",
       "      <td>11</td>\n",
       "      <td>2005</td>\n",
       "      <td>浙江大学</td>\n",
       "      <td>3</td>\n",
       "      <td>45</td>\n",
       "      <td>713</td>\n",
       "    </tr>\n",
       "    <tr>\n",
       "      <th>3</th>\n",
       "      <td>11</td>\n",
       "      <td>2005</td>\n",
       "      <td>上海交通大学</td>\n",
       "      <td>4</td>\n",
       "      <td>49</td>\n",
       "      <td>762</td>\n",
       "    </tr>\n",
       "    <tr>\n",
       "      <th>4</th>\n",
       "      <td>11</td>\n",
       "      <td>2005</td>\n",
       "      <td>复旦大学</td>\n",
       "      <td>5</td>\n",
       "      <td>52</td>\n",
       "      <td>814</td>\n",
       "    </tr>\n",
       "    <tr>\n",
       "      <th>5</th>\n",
       "      <td>11</td>\n",
       "      <td>2005</td>\n",
       "      <td>中国科学技术大学</td>\n",
       "      <td>6</td>\n",
       "      <td>41</td>\n",
       "      <td>855</td>\n",
       "    </tr>\n",
       "    <tr>\n",
       "      <th>6</th>\n",
       "      <td>11</td>\n",
       "      <td>2005</td>\n",
       "      <td>南京大学</td>\n",
       "      <td>7</td>\n",
       "      <td>35</td>\n",
       "      <td>890</td>\n",
       "    </tr>\n",
       "    <tr>\n",
       "      <th>7</th>\n",
       "      <td>11</td>\n",
       "      <td>2005</td>\n",
       "      <td>华中科技大学</td>\n",
       "      <td>8</td>\n",
       "      <td>76</td>\n",
       "      <td>966</td>\n",
       "    </tr>\n",
       "    <tr>\n",
       "      <th>8</th>\n",
       "      <td>11</td>\n",
       "      <td>2005</td>\n",
       "      <td>中山大学</td>\n",
       "      <td>9</td>\n",
       "      <td>36</td>\n",
       "      <td>1002</td>\n",
       "    </tr>\n",
       "    <tr>\n",
       "      <th>9</th>\n",
       "      <td>11</td>\n",
       "      <td>2005</td>\n",
       "      <td>哈尔滨工业大学</td>\n",
       "      <td>10</td>\n",
       "      <td>69</td>\n",
       "      <td>1071</td>\n",
       "    </tr>\n",
       "  </tbody>\n",
       "</table>\n",
       "</div>"
      ],
      "text/plain": [
       "   provid  wave   clg_num  sch_rank  quota  cum_quota\n",
       "0      11  2005      清华大学         1    291        291\n",
       "1      11  2005      北京大学         2    377        668\n",
       "2      11  2005      浙江大学         3     45        713\n",
       "3      11  2005    上海交通大学         4     49        762\n",
       "4      11  2005      复旦大学         5     52        814\n",
       "5      11  2005  中国科学技术大学         6     41        855\n",
       "6      11  2005      南京大学         7     35        890\n",
       "7      11  2005    华中科技大学         8     76        966\n",
       "8      11  2005      中山大学         9     36       1002\n",
       "9      11  2005   哈尔滨工业大学        10     69       1071"
      ]
     },
     "execution_count": 46,
     "metadata": {},
     "output_type": "execute_result"
    }
   ],
   "source": [
    "# get clg_quota_df with school cumulative quota.\n",
    "clg_df_grouped = gaokao_df[['sch_rank','score','clg_num','provid','wave']].groupby(['clg_num','provid','wave'])\n",
    "clg_quota_df = clg_df_grouped.agg({'sch_rank':'mean','score':'count'}) # use different group functions for two columns\n",
    "clg_quota_df.rename(columns={'score':'quota'},inplace=True)\n",
    "clg_quota_df.reset_index(inplace=True)\n",
    "clg_quota_df.dropna(inplace=True)\n",
    "clg_quota_df.sort_values(by=['provid','wave','sch_rank'], inplace=True)\n",
    "clg_quota_df.set_index(['provid','wave'],inplace=True) # set index for the groupby operation : cumsum\n",
    "clg_quota_df['cum_quota'] = clg_quota_df.groupby(level=0)['quota'].cumsum()\n",
    "clg_quota_df.reset_index(inplace=True)\n",
    "clg_quota_df.head(10)"
   ]
  },
  {
   "cell_type": "markdown",
   "metadata": {},
   "source": [
    "### Calculate the number of C_A\n",
    "    + For each college prov and year, generate an indicator dummy for each student in this category. \n",
    "    + 1: higher than the cutoff, 0 lower than the cutoff\n",
    "    + For each student, count the number of colleges he is eligible"
   ]
  },
  {
   "cell_type": "code",
   "execution_count": 47,
   "metadata": {
    "collapsed": true
   },
   "outputs": [],
   "source": [
    "def np_gen_CA4(row, clg):\n",
    "    # select a temp df from the clg_bar_df for a given prov year combination\n",
    "\n",
    "    # within the temp2 df, generate a new column with 1 as the score larger than the cutoff, 0 smaller than the cutoff\n",
    "    # one condition needs to be satisfied:\n",
    "    # 1. Own score higher than the bar    \n",
    "    value = np.where(clg.loc[(clg['provid'] == row['provid']) & (clg['wave'] == row['wave']), 'bar'].values<=row['score'], 1, 0).sum()\n",
    "\n",
    "    return value"
   ]
  },
  {
   "cell_type": "markdown",
   "metadata": {},
   "source": [
    "### Calculate the number of C_S\n",
    "    + for each student:\n",
    "       + compare the rank of the student with the cumulative quota in his respective province and year. \n",
    "       + based on this comparison, return the number of schools a student is eligible."
   ]
  },
  {
   "cell_type": "code",
   "execution_count": 49,
   "metadata": {
    "collapsed": true
   },
   "outputs": [],
   "source": [
    "def get_CS(row):\n",
    "    score_rank = row['score_rank']\n",
    "    province = row['provid']\n",
    "    year = row['wave']\n",
    "\n",
    "    temp = clg_quota_df.loc[(clg_quota_df['provid'] == province) & (clg_quota_df['wave'] == year)].copy().values\n",
    "    pos = np.searchsorted(temp[:, 5],\n",
    "                          score_rank)  # use positional index to reference the cumsum column. more robust option?\n",
    "    cs = temp[:, 5].size-pos\n",
    "    return cs"
   ]
  },
  {
   "cell_type": "markdown",
   "metadata": {},
   "source": [
    "### Apply the function on every row of the gaokao dataframe"
   ]
  },
  {
   "cell_type": "code",
   "execution_count": 73,
   "metadata": {
    "collapsed": false
   },
   "outputs": [],
   "source": [
    "gaokao_df['CA4'] = gaokao_df.iloc[0:11000,:].apply(np_gen_CA4, args=(clg,), axis=1)"
   ]
  },
  {
   "cell_type": "code",
   "execution_count": 74,
   "metadata": {
    "collapsed": false
   },
   "outputs": [
    {
     "name": "stdout",
     "output_type": "stream",
     "text": [
      "16.413000106811523\n"
     ]
    }
   ],
   "source": [
    "t0 = time.time()\n",
    "gaokao_df['CS']=np.nan\n",
    "gaokao_df.loc[:,'CS'] = gaokao_df.iloc[0:11000,:].apply(get_CS,axis=1)\n",
    "t1 = time.time()\n",
    "print(t1-t0)"
   ]
  },
  {
   "cell_type": "code",
   "execution_count": 75,
   "metadata": {
    "collapsed": false
   },
   "outputs": [
    {
     "data": {
      "text/html": [
       "<div>\n",
       "<table border=\"1\" class=\"dataframe\">\n",
       "  <thead>\n",
       "    <tr style=\"text-align: right;\">\n",
       "      <th></th>\n",
       "      <th>provid</th>\n",
       "      <th>wave</th>\n",
       "      <th>clg_num</th>\n",
       "      <th>sch_rank</th>\n",
       "      <th>score</th>\n",
       "      <th>score_rank</th>\n",
       "      <th>CA4</th>\n",
       "      <th>CS</th>\n",
       "      <th>diff_CACS</th>\n",
       "    </tr>\n",
       "  </thead>\n",
       "  <tbody>\n",
       "    <tr>\n",
       "      <th>983825</th>\n",
       "      <td>11</td>\n",
       "      <td>2005</td>\n",
       "      <td>北京大学</td>\n",
       "      <td>2</td>\n",
       "      <td>687.0</td>\n",
       "      <td>1</td>\n",
       "      <td>224.0</td>\n",
       "      <td>224.0</td>\n",
       "      <td>0.0</td>\n",
       "    </tr>\n",
       "    <tr>\n",
       "      <th>4532530</th>\n",
       "      <td>11</td>\n",
       "      <td>2005</td>\n",
       "      <td>清华大学</td>\n",
       "      <td>1</td>\n",
       "      <td>673.0</td>\n",
       "      <td>2</td>\n",
       "      <td>224.0</td>\n",
       "      <td>224.0</td>\n",
       "      <td>0.0</td>\n",
       "    </tr>\n",
       "    <tr>\n",
       "      <th>4535276</th>\n",
       "      <td>11</td>\n",
       "      <td>2005</td>\n",
       "      <td>清华大学</td>\n",
       "      <td>1</td>\n",
       "      <td>671.0</td>\n",
       "      <td>3</td>\n",
       "      <td>224.0</td>\n",
       "      <td>224.0</td>\n",
       "      <td>0.0</td>\n",
       "    </tr>\n",
       "    <tr>\n",
       "      <th>4527864</th>\n",
       "      <td>11</td>\n",
       "      <td>2005</td>\n",
       "      <td>清华大学</td>\n",
       "      <td>1</td>\n",
       "      <td>670.0</td>\n",
       "      <td>4</td>\n",
       "      <td>224.0</td>\n",
       "      <td>224.0</td>\n",
       "      <td>0.0</td>\n",
       "    </tr>\n",
       "    <tr>\n",
       "      <th>984320</th>\n",
       "      <td>11</td>\n",
       "      <td>2005</td>\n",
       "      <td>北京大学</td>\n",
       "      <td>2</td>\n",
       "      <td>663.0</td>\n",
       "      <td>5</td>\n",
       "      <td>224.0</td>\n",
       "      <td>224.0</td>\n",
       "      <td>0.0</td>\n",
       "    </tr>\n",
       "    <tr>\n",
       "      <th>987081</th>\n",
       "      <td>11</td>\n",
       "      <td>2005</td>\n",
       "      <td>北京大学</td>\n",
       "      <td>2</td>\n",
       "      <td>662.0</td>\n",
       "      <td>6</td>\n",
       "      <td>224.0</td>\n",
       "      <td>224.0</td>\n",
       "      <td>0.0</td>\n",
       "    </tr>\n",
       "    <tr>\n",
       "      <th>490449</th>\n",
       "      <td>11</td>\n",
       "      <td>2005</td>\n",
       "      <td>中国人民大学</td>\n",
       "      <td>28</td>\n",
       "      <td>661.0</td>\n",
       "      <td>8</td>\n",
       "      <td>224.0</td>\n",
       "      <td>224.0</td>\n",
       "      <td>0.0</td>\n",
       "    </tr>\n",
       "    <tr>\n",
       "      <th>4526458</th>\n",
       "      <td>11</td>\n",
       "      <td>2005</td>\n",
       "      <td>清华大学</td>\n",
       "      <td>1</td>\n",
       "      <td>661.0</td>\n",
       "      <td>8</td>\n",
       "      <td>224.0</td>\n",
       "      <td>224.0</td>\n",
       "      <td>0.0</td>\n",
       "    </tr>\n",
       "    <tr>\n",
       "      <th>4530342</th>\n",
       "      <td>11</td>\n",
       "      <td>2005</td>\n",
       "      <td>清华大学</td>\n",
       "      <td>1</td>\n",
       "      <td>661.0</td>\n",
       "      <td>8</td>\n",
       "      <td>224.0</td>\n",
       "      <td>224.0</td>\n",
       "      <td>0.0</td>\n",
       "    </tr>\n",
       "    <tr>\n",
       "      <th>987153</th>\n",
       "      <td>11</td>\n",
       "      <td>2005</td>\n",
       "      <td>北京大学</td>\n",
       "      <td>2</td>\n",
       "      <td>660.0</td>\n",
       "      <td>11</td>\n",
       "      <td>224.0</td>\n",
       "      <td>224.0</td>\n",
       "      <td>0.0</td>\n",
       "    </tr>\n",
       "  </tbody>\n",
       "</table>\n",
       "</div>"
      ],
      "text/plain": [
       "         provid  wave clg_num  sch_rank  score  score_rank    CA4     CS  \\\n",
       "983825       11  2005    北京大学         2  687.0           1  224.0  224.0   \n",
       "4532530      11  2005    清华大学         1  673.0           2  224.0  224.0   \n",
       "4535276      11  2005    清华大学         1  671.0           3  224.0  224.0   \n",
       "4527864      11  2005    清华大学         1  670.0           4  224.0  224.0   \n",
       "984320       11  2005    北京大学         2  663.0           5  224.0  224.0   \n",
       "987081       11  2005    北京大学         2  662.0           6  224.0  224.0   \n",
       "490449       11  2005  中国人民大学        28  661.0           8  224.0  224.0   \n",
       "4526458      11  2005    清华大学         1  661.0           8  224.0  224.0   \n",
       "4530342      11  2005    清华大学         1  661.0           8  224.0  224.0   \n",
       "987153       11  2005    北京大学         2  660.0          11  224.0  224.0   \n",
       "\n",
       "         diff_CACS  \n",
       "983825         0.0  \n",
       "4532530        0.0  \n",
       "4535276        0.0  \n",
       "4527864        0.0  \n",
       "984320         0.0  \n",
       "987081         0.0  \n",
       "490449         0.0  \n",
       "4526458        0.0  \n",
       "4530342        0.0  \n",
       "987153         0.0  "
      ]
     },
     "execution_count": 75,
     "metadata": {},
     "output_type": "execute_result"
    }
   ],
   "source": [
    "gaokao_df['diff_CACS']= gaokao_df['CA4']-gaokao_df['CS']\n",
    "gaokao_df.head(10)"
   ]
  },
  {
   "cell_type": "code",
   "execution_count": 76,
   "metadata": {
    "collapsed": false
   },
   "outputs": [
    {
     "data": {
      "text/plain": [
       "count    11000.000000\n",
       "mean        43.289455\n",
       "std         20.160927\n",
       "min          0.000000\n",
       "25%         30.000000\n",
       "50%         53.000000\n",
       "75%         58.000000\n",
       "max         77.000000\n",
       "Name: diff_CACS, dtype: float64"
      ]
     },
     "execution_count": 76,
     "metadata": {},
     "output_type": "execute_result"
    }
   ],
   "source": [
    "gaokao_df['diff_CACS'].describe()"
   ]
  },
  {
   "cell_type": "code",
   "execution_count": 77,
   "metadata": {
    "collapsed": false
   },
   "outputs": [],
   "source": [
    "gaokao_df.iloc[0:11000,:].to_excel('C:/Users/yan/Dropbox/college_entrance_exam/output/diff_CACS.xlsx')"
   ]
  },
  {
   "cell_type": "code",
   "execution_count": 79,
   "metadata": {
    "collapsed": false
   },
   "outputs": [
    {
     "data": {
      "text/plain": [
       "<matplotlib.axes._subplots.AxesSubplot at 0x2c021e48>"
      ]
     },
     "execution_count": 79,
     "metadata": {},
     "output_type": "execute_result"
    },
    {
     "data": {
      "image/png": "[encoded data removed]",
      "text/plain": [
       "<matplotlib.figure.Figure at 0x2cd64898>"
      ]
     },
     "metadata": {},
     "output_type": "display_data"
    }
   ],
   "source": [
    "gaokao_df.iloc[0:11000,:].plot.scatter(x='score_rank',y='diff_CACS',c='DarkBlue')"
   ]
  },
  {
   "cell_type": "code",
   "execution_count": null,
   "metadata": {
    "collapsed": true
   },
   "outputs": [],
   "source": []
  }
 ],
 "metadata": {
  "kernelspec": {
   "display_name": "Python 3",
   "language": "python",
   "name": "python3"
  },
  "language_info": {
   "codemirror_mode": {
    "name": "ipython",
    "version": 3
   },
   "file_extension": ".py",
   "mimetype": "text/x-python",
   "name": "python",
   "nbconvert_exporter": "python",
   "pygments_lexer": "ipython3",
   "version": "3.6.0"
  },
  "toc": {
   "nav_menu": {},
   "number_sections": true,
   "sideBar": true,
   "skip_h1_title": false,
   "toc_cell": false,
   "toc_position": {},
   "toc_section_display": "block",
   "toc_window_display": false
  }
 },
 "nbformat": 4,
 "nbformat_minor": 2
}
